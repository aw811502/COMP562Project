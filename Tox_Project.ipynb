{
  "cells": [
    {
      "cell_type": "markdown",
      "metadata": {
        "id": "gqSI_rWeG69N"
      },
      "source": [
        "# (1) Import Libraries and Loading Data"
      ]
    },
    {
      "cell_type": "code",
      "execution_count": 12,
      "metadata": {
        "id": "Ovo6UbsFlIp1"
      },
      "outputs": [],
      "source": [
        "# Example code from dataset website\n",
        "\n",
        "# Import Libraries\n",
        "import numpy as np\n",
        "import pandas as pd\n",
        "from scipy import io"
      ]
    },
    {
      "cell_type": "code",
      "source": [
        "from google.colab import drive\n",
        "drive.mount('/content/drive')"
      ],
      "metadata": {
        "id": "Wk1YcF_zBY2m"
      },
      "execution_count": null,
      "outputs": []
    },
    {
      "cell_type": "code",
      "execution_count": 14,
      "metadata": {
        "id": "1rMH68Gvnpan"
      },
      "outputs": [],
      "source": [
        "# Load Data\n",
        "\n",
        "# In Files tab, go to mount google drive, and there is a folder in the shared project folder with data.\n",
        "# If you right click the file you can copy the folder path\n",
        "\n",
        "folder = '/content/drive/MyDrive/Comp562Project/Data' ## may be different for you\n",
        "### In order to see shared files, you might have to right click on the project folder and \"add shortcut to drive\"\n",
        "\n",
        "\n",
        "# Label Data: Each of 12060 sample has results for 12 different toxicological assays.\n",
        "# Result is 0 or 1 for each assay (or NA if there is no result).\n",
        "y_tr = pd.read_csv(folder + '/tox21_labels_train.csv.gz', index_col=0, compression=\"gzip\")\n",
        "y_te = pd.read_csv(folder + '/tox21_labels_test.csv.gz', index_col=0, compression=\"gzip\")\n",
        "\n",
        "# Dense Sample Features: There are 801 features for each sample\n",
        "x_tr_dense = pd.read_csv(folder + '/tox21_dense_train.csv.gz', index_col=0, compression=\"gzip\").values\n",
        "x_te_dense = pd.read_csv(folder + '/tox21_dense_test.csv.gz', index_col=0, compression=\"gzip\").values"
      ]
    },
    {
      "cell_type": "markdown",
      "metadata": {
        "id": "t9VBiWW1HBJP"
      },
      "source": [
        "# (2) Initial Attempts at various classification models"
      ]
    },
    {
      "cell_type": "code",
      "execution_count": null,
      "metadata": {
        "colab": {
          "base_uri": "https://localhost:8080/"
        },
        "id": "n9azFmbj-8oO",
        "outputId": "c4be932c-21b8-4639-b6cf-99dd424d6b98"
      },
      "outputs": [
        {
          "output_type": "execute_result",
          "data": {
            "text/plain": [
              "90.82"
            ]
          },
          "metadata": {},
          "execution_count": 22
        }
      ],
      "source": [
        "# General Structure to train a model for one assay\n",
        "from sklearn.ensemble import RandomForestClassifier\n",
        "from sklearn.metrics import roc_auc_score\n",
        "\n",
        "# Select which assay you are testing\n",
        "target = y_tr.columns[0]\n",
        "\n",
        "# For each assay, find rows with labels that have a value (not NaN)\n",
        "rows_tr = np.isfinite(y_tr[target])\n",
        "rows_te = np.isfinite(y_te[target])\n",
        "\n",
        "# Select and fit model\n",
        "rf = RandomForestClassifier(n_estimators=100,  n_jobs=4)\n",
        "rf.fit(x_tr_dense[rows_tr], y_tr[target][rows_tr]) # Slices features/labels to rows that have values\n",
        "\n",
        "# Use model to predict labels based off test set\n",
        "acc_random_forest = round(rf.score(x_te_dense[rows_te], y_te[target][rows_te]) * 100, 2)\n",
        "acc_random_forest"
      ]
    },
    {
      "cell_type": "code",
      "execution_count": null,
      "metadata": {
        "colab": {
          "base_uri": "https://localhost:8080/"
        },
        "id": "jxmqPWT7oREU",
        "outputId": "6ac487cc-6a6f-4160-b09b-e326dffeb974"
      },
      "outputs": [
        {
          "output_type": "stream",
          "name": "stdout",
          "text": [
            "         NR.AhR: 90.49000, 0.89578\n",
            "          NR.AR: 97.95000, 0.67632\n",
            "      NR.AR.LBD: 98.28000, 0.71875\n",
            "   NR.Aromatase: 92.80000, 0.76414\n",
            "          NR.ER: 91.67000, 0.76934\n",
            "      NR.ER.LBD: 97.17000, 0.74987\n",
            "  NR.PPAR.gamma: 94.71000, 0.71319\n",
            "         SR.ARE: 84.14000, 0.76443\n",
            "       SR.ATAD5: 93.89000, 0.76593\n",
            "         SR.HSE: 96.56000, 0.76175\n",
            "         SR.MMP: 90.06000, 0.91228\n",
            "         SR.p53: 93.34000, 0.77699\n"
          ]
        }
      ],
      "source": [
        "# Random Forest for Dense Sample Features\n",
        "from sklearn.ensemble import RandomForestClassifier\n",
        "\n",
        "acc_rf = [] # Stores % Accuracy for each assay\n",
        "auc_rf = [] # Store ROC Area Under Curve for each Assay\n",
        "\n",
        "# Build a model for each assay\n",
        "for target in y_tr.columns:\n",
        "    # Find sample rows that have values (not NaN)\n",
        "    rows_tr = np.isfinite(y_tr[target])\n",
        "    rows_te = np.isfinite(y_te[target])\n",
        "\n",
        "    # Select Model and Fit to data\n",
        "    rf = RandomForestClassifier(n_estimators=100,  n_jobs=4)\n",
        "    rf.fit(x_tr_dense[rows_tr], y_tr[target][rows_tr]) # Slices features/labels to only rows that have values\n",
        "\n",
        "    # Calculate Accuracy\n",
        "    acc_rf.append(round(rf.score(x_te_dense[rows_te], y_te[target][rows_te]) * 100, 2))\n",
        "\n",
        "    # Calculate ROC AUC\n",
        "    p_te = rf.predict_proba(x_te_dense[rows_te])\n",
        "    auc_rf.append(roc_auc_score(y_te[target][rows_te], p_te[:,1]))\n",
        "\n",
        "    # Print assay name, acc, and auc\n",
        "    print(\"%15s: %3.5f, %3.5f\" % (target, acc_rf[-1], auc_rf[-1]))"
      ]
    },
    {
      "cell_type": "code",
      "execution_count": null,
      "metadata": {
        "colab": {
          "base_uri": "https://localhost:8080/"
        },
        "id": "zvhqd4gd5GQ7",
        "outputId": "a291ea32-6508-479f-899c-bcf1d5be4874"
      },
      "outputs": [
        {
          "output_type": "stream",
          "name": "stdout",
          "text": [
            "         NR.AhR: 85.08000, 0.68377\n",
            "          NR.AR: 97.27000, 0.59248\n",
            "      NR.AR.LBD: 98.11000, 0.53996\n",
            "   NR.Aromatase: 89.58000, 0.61942\n",
            "          NR.ER: 85.85000, 0.63186\n",
            "      NR.ER.LBD: 95.67000, 0.61444\n",
            "  NR.PPAR.gamma: 94.21000, 0.53009\n",
            "         SR.ARE: 77.30000, 0.56988\n",
            "       SR.ATAD5: 92.28000, 0.55534\n",
            "         SR.HSE: 94.75000, 0.59848\n",
            "         SR.MMP: 83.43000, 0.63066\n",
            "         SR.p53: 90.75000, 0.57451\n"
          ]
        }
      ],
      "source": [
        "# K Nearest Neighbors\n",
        "from sklearn.neighbors import KNeighborsClassifier\n",
        "from sklearn.metrics import roc_auc_score\n",
        "\n",
        "acc_knn = []\n",
        "auc_knn = []\n",
        "\n",
        "for target in y_tr.columns:\n",
        "    # Put labels in np arrays\n",
        "    rows_tr = np.isfinite(y_tr[target])\n",
        "    rows_te = np.isfinite(y_te[target])\n",
        "\n",
        "    knn = KNeighborsClassifier(n_neighbors = 3) \n",
        "    knn.fit(x_tr_dense[rows_tr], y_tr[target][rows_tr])  \n",
        "\n",
        "    acc_knn.append(round(knn.score(x_te_dense[rows_te], y_te[target][rows_te]) * 100, 2))\n",
        "\n",
        "    p_te = knn.predict_proba(x_te_dense[rows_te])\n",
        "    auc_knn.append(roc_auc_score(y_te[target][rows_te], p_te[:,1]))\n",
        "\n",
        "    print(\"%15s: %3.5f, %3.5f\" % (target, acc_knn[-1], auc_knn[-1]))"
      ]
    },
    {
      "cell_type": "code",
      "execution_count": null,
      "metadata": {
        "colab": {
          "base_uri": "https://localhost:8080/"
        },
        "id": "hwcMHEWr7VcR",
        "outputId": "392fac18-9c93-4d7b-d0f0-a7e86cbc6314"
      },
      "outputs": [
        {
          "output_type": "stream",
          "name": "stdout",
          "text": [
            "         NR.AhR: 11.97000\n",
            "          NR.AR: 2.05000\n",
            "      NR.AR.LBD: 1.37000\n",
            "   NR.Aromatase: 7.39000\n",
            "          NR.ER: 9.88000\n",
            "      NR.ER.LBD: 3.33000\n",
            "  NR.PPAR.gamma: 5.12000\n",
            "         SR.ARE: 16.76000\n",
            "       SR.ATAD5: 6.11000\n",
            "         SR.HSE: 3.61000\n",
            "         SR.MMP: 11.05000\n",
            "         SR.p53: 6.66000\n"
          ]
        }
      ],
      "source": [
        "# Gaussian Naive Bayes\n",
        "from sklearn.naive_bayes import GaussianNB\n",
        "from sklearn.metrics import roc_auc_score\n",
        "\n",
        "acc_gnb = []\n",
        "#auc_gnb = []\n",
        "\n",
        "for target in y_tr.columns:\n",
        "    rows_tr = np.isfinite(y_tr[target]).values\n",
        "    rows_te = np.isfinite(y_te[target]).values\n",
        "\n",
        "    gnb = GaussianNB() \n",
        "    gnb.fit(x_tr_dense[rows_tr], y_tr[target][rows_tr])\n",
        "\n",
        "    acc_gnb.append(round(gnb.score(x_te_dense[rows_te], y_te[target][rows_te]) * 100, 2))\n",
        "\n",
        "    #p_te = gnb.predict_proba(x_te_dense[rows_te])\n",
        "    #auc_gnb.append(roc_auc_score(y_te[target][rows_te], p_te[:,1]))\n",
        "\n",
        "    print(\"%15s: %3.5f\" % (target, acc_gnb[-1]))"
      ]
    },
    {
      "cell_type": "code",
      "source": [
        "# Not sure why Gaussian Naive Bayes is giving accuracies closer to 0 %, but we can subtract from 100 to get the accuracy of the inverse prediction\n",
        "for i in range(len(acc_gnb)):\n",
        "  acc_gnb[i] = 100.0 - acc_gnb[i]"
      ],
      "metadata": {
        "id": "ohsOfTU8O7Zu"
      },
      "execution_count": null,
      "outputs": []
    },
    {
      "cell_type": "code",
      "execution_count": null,
      "metadata": {
        "colab": {
          "base_uri": "https://localhost:8080/"
        },
        "id": "kPxwxQhk9BcM",
        "outputId": "892f6767-5f6b-462d-bca9-34096e10e37e"
      },
      "outputs": [
        {
          "output_type": "stream",
          "name": "stdout",
          "text": [
            "         NR.AhR: 84.92000, 0.72414\n",
            "          NR.AR: 95.22000, 0.60714\n",
            "      NR.AR.LBD: 97.25000, 0.61629\n",
            "   NR.Aromatase: 87.69000, 0.55600\n",
            "          NR.ER: 85.27000, 0.61739\n",
            "      NR.ER.LBD: 93.17000, 0.57638\n",
            "  NR.PPAR.gamma: 90.91000, 0.50880\n",
            "         SR.ARE: 76.94000, 0.60606\n",
            "       SR.ATAD5: 90.51000, 0.60504\n",
            "         SR.HSE: 89.67000, 0.64015\n",
            "         SR.MMP: 85.82000, 0.69351\n",
            "         SR.p53: 86.04000, 0.51750\n"
          ]
        }
      ],
      "source": [
        "# Decision Tree for Dense Sample Features\n",
        "from sklearn.tree import DecisionTreeClassifier\n",
        "from sklearn.metrics import roc_auc_score\n",
        "\n",
        "acc_dt = []\n",
        "auc_dt = []\n",
        "\n",
        "for target in y_tr.columns:\n",
        "    rows_tr = np.isfinite(y_tr[target])\n",
        "    rows_te = np.isfinite(y_te[target])\n",
        "    dt = DecisionTreeClassifier()\n",
        "    dt.fit(x_tr_dense[rows_tr], y_tr[target][rows_tr])\n",
        "    acc_dt.append(round(dt.score(x_te_dense[rows_te], y_te[target][rows_te]) * 100, 2))\n",
        "    p_te = dt.predict_proba(x_te_dense[rows_te])\n",
        "    auc_dt.append(roc_auc_score(y_te[target][rows_te], p_te[:, 1]))\n",
        "    print(\"%15s: %3.5f, %3.5f\" % (target, acc_dt[-1], auc_dt[-1]))"
      ]
    },
    {
      "cell_type": "code",
      "execution_count": null,
      "metadata": {
        "colab": {
          "base_uri": "https://localhost:8080/"
        },
        "id": "7RnD6BF96k_O",
        "outputId": "6d40b638-30fb-4b89-d3d3-62a96e470338"
      },
      "outputs": [
        {
          "output_type": "stream",
          "name": "stdout",
          "text": [
            "         NR.AhR: 88.03000\n",
            "          NR.AR: 97.95000\n",
            "      NR.AR.LBD: 98.63000\n",
            "   NR.Aromatase: 92.61000\n",
            "          NR.ER: 90.12000\n",
            "      NR.ER.LBD: 96.67000\n",
            "  NR.PPAR.gamma: 94.88000\n",
            "         SR.ARE: 83.24000\n",
            "       SR.ATAD5: 93.89000\n",
            "         SR.HSE: 96.39000\n",
            "         SR.MMP: 88.95000\n",
            "         SR.p53: 93.34000\n"
          ]
        }
      ],
      "source": [
        "# Stochastic Gradient Descent\n",
        "from sklearn.linear_model import SGDClassifier\n",
        "from sklearn.metrics import roc_auc_score\n",
        "\n",
        "acc_sgd = []\n",
        "#auc_sgd = []\n",
        "\n",
        "for target in y_tr.columns:\n",
        "    # Put labels in np arrays\n",
        "    rows_tr = np.isfinite(y_tr[target]).values\n",
        "    rows_te = np.isfinite(y_te[target]).values\n",
        "\n",
        "    sgd = SGDClassifier(max_iter=5, tol=None) \n",
        "    sgd.fit(x_tr_dense[rows_tr], y_tr[target][rows_tr])\n",
        "\n",
        "    acc_sgd.append(round(sgd.score(x_te_dense[rows_te], y_te[target][rows_te]) * 100, 2))\n",
        "\n",
        "    #p_te = sgd.predict_proba(x_te_dense[rows_te])\n",
        "    #auc_sgd.append(roc_auc_score(y_te[target][rows_te], p_te[:,1]))\n",
        "\n",
        "    print(\"%15s: %3.5f\" % (target, acc_sgd[-1]))"
      ]
    },
    {
      "cell_type": "code",
      "execution_count": null,
      "metadata": {
        "colab": {
          "base_uri": "https://localhost:8080/"
        },
        "id": "jkCaDmdN95Fv",
        "outputId": "1504101e-81b8-43a3-e914-3992577f071b"
      },
      "outputs": [
        {
          "output_type": "stream",
          "name": "stdout",
          "text": [
            "         NR.AhR: 88.03000\n",
            "          NR.AR: 97.95000\n",
            "      NR.AR.LBD: 98.63000\n",
            "   NR.Aromatase: 92.61000\n",
            "          NR.ER: 90.12000\n",
            "      NR.ER.LBD: 96.67000\n",
            "  NR.PPAR.gamma: 94.88000\n"
          ]
        },
        {
          "output_type": "stream",
          "name": "stderr",
          "text": [
            "/usr/local/lib/python3.7/dist-packages/sklearn/linear_model/_stochastic_gradient.py:700: ConvergenceWarning: Maximum number of iteration reached before convergence. Consider increasing max_iter to improve the fit.\n",
            "  ConvergenceWarning,\n"
          ]
        },
        {
          "output_type": "stream",
          "name": "stdout",
          "text": [
            "         SR.ARE: 83.24000\n",
            "       SR.ATAD5: 93.89000\n",
            "         SR.HSE: 96.39000\n",
            "         SR.MMP: 88.95000\n",
            "         SR.p53: 93.34000\n"
          ]
        }
      ],
      "source": [
        "# Perceptron for Dense Sample Features\n",
        "from sklearn.linear_model import Perceptron\n",
        "from sklearn.metrics import roc_auc_score\n",
        "\n",
        "acc_pc = []\n",
        "\n",
        "for target in y_tr.columns:\n",
        "    rows_tr = np.isfinite(y_tr[target]).values\n",
        "    rows_te = np.isfinite(y_te[target]).values\n",
        "    pc = Perceptron(max_iter=2000)\n",
        "    pc.fit(x_tr_dense[rows_tr], y_tr[target][rows_tr])\n",
        "    acc_pc.append(round(pc.score(x_te_dense[rows_te], y_te[target][rows_te]) * 100, 2))\n",
        "    print(\"%15s: %3.5f\" % (target, acc_pc[-1]))"
      ]
    },
    {
      "cell_type": "code",
      "execution_count": null,
      "metadata": {
        "id": "srdvUyPM3z9k"
      },
      "outputs": [],
      "source": [
        "# Logistic Regression for Dense Sample Features\n",
        "from sklearn.linear_model import LogisticRegression\n",
        "from sklearn.metrics import roc_auc_score\n",
        "\n",
        "acc_lr = []\n",
        "auc_lr = []\n",
        "\n",
        "for target in y_tr.columns:\n",
        "    rows_tr = np.isfinite(y_tr[target]).values\n",
        "    rows_te = np.isfinite(y_te[target]).values\n",
        "\n",
        "    lr = LogisticRegression()\n",
        "    lr.fit(x_tr_dense[rows_tr], y_tr[target][rows_tr])\n",
        "\n",
        "    acc_lr.append(round(lr.score(x_te_dense[rows_te], y_te[target][rows_te]) * 100, 2))\n",
        "\n",
        "    p_te = lr.predict_proba(x_te_dense[rows_te])\n",
        "    auc_lr.append(roc_auc_score(y_te[target][rows_te], p_te[:, 1]))\n",
        "    print(\"%15s: %3.5f, %3.5f\" % (target, acc_lr[-1], auc_lr[-1]))"
      ]
    },
    {
      "cell_type": "code",
      "source": [
        "# Support Vector Machine\n",
        "from sklearn.svm import SVC, LinearSVC\n",
        "from sklearn.metrics import roc_auc_score\n",
        "\n",
        "acc_svc = []\n",
        "#auc_svc = []\n",
        "\n",
        "for target in y_tr.columns:\n",
        "    rows_tr = np.isfinite(y_tr[target]).values\n",
        "    rows_te = np.isfinite(y_te[target]).values\n",
        "\n",
        "    svc = LinearSVC()\n",
        "    svc.fit(x_tr_dense[rows_tr], y_tr[target][rows_tr])\n",
        "\n",
        "    acc_svc.append(round(svc.score(x_te_dense[rows_te], y_te[target][rows_te]) * 100, 2))\n",
        "\n",
        "    #p_te = svc.predict_proba(x_te_dense[rows_te])\n",
        "    #auc_svc.append(roc_auc_score(y_te[target][rows_te], p_te[:, 1]))\n",
        "    print(\"%15s: %3.5f\" % (target, acc_svc[-1]))"
      ],
      "metadata": {
        "id": "0EDTFvavMNKm"
      },
      "execution_count": null,
      "outputs": []
    },
    {
      "cell_type": "markdown",
      "source": [
        "## Report Accuracies for Initial models"
      ],
      "metadata": {
        "id": "5BYrlRuUSc0O"
      }
    },
    {
      "cell_type": "code",
      "source": [
        "report_accs = [acc_rf, acc_knn, acc_dt, acc_lr, acc_svc]\n",
        "models = [\"Random Forest\", \"K Nearest Neighbors\", \"Decision Tree\", \"Logistic Regression\", \"Support Vector Machines\"]\n",
        "\n",
        "# Calculates average accuracy of each assay\n",
        "acc_avg = []\n",
        "for i in range(len(acc_rf)):\n",
        "  total = sum(acc[i] for acc in report_accs)\n",
        "  mean = total/len(report_accs)\n",
        "  acc_avg.append(mean)\n",
        "report_accs.append(acc_avg)\n",
        "\n",
        "df = pd.DataFrame(report_accs, columns = list(y_tr.columns) + [\"Average\"], index = models + [\"Average\"])\n",
        "df"
      ],
      "metadata": {
        "colab": {
          "base_uri": "https://localhost:8080/",
          "height": 333
        },
        "id": "hcOJQqgYQaQH",
        "outputId": "db9ff8b4-d0a8-42df-adb8-9e1bc5f306c8"
      },
      "execution_count": null,
      "outputs": [
        {
          "output_type": "execute_result",
          "data": {
            "text/plain": [
              "                         NR.AhR   NR.AR  NR.AR.LBD  NR.Aromatase   NR.ER  \\\n",
              "Random Forest            90.490  97.950     98.280        92.800  91.670   \n",
              "K Nearest Neighbors      85.080  97.270     98.110        89.580  85.850   \n",
              "Decision Tree            84.920  95.220     97.250        87.690  85.270   \n",
              "Logistic Regression      88.030  97.950     98.630        92.610  90.120   \n",
              "Support Vector Machines  57.210  96.080     95.190        92.610  62.020   \n",
              "Average                  81.146  96.894     97.492        91.058  82.986   \n",
              "\n",
              "                         NR.ER.LBD  NR.PPAR.gamma  SR.ARE  SR.ATAD5  SR.HSE  \\\n",
              "Random Forest               97.170         94.710  84.140    93.890  96.560   \n",
              "K Nearest Neighbors         95.670         94.210  77.300    92.280  94.750   \n",
              "Decision Tree               93.170         90.910  76.940    90.510  89.670   \n",
              "Logistic Regression         96.670         94.880  83.240    93.890  96.390   \n",
              "Support Vector Machines     95.330         91.900  83.060    93.090   4.100   \n",
              "Average                     95.602         93.322  80.936    92.732  76.294   \n",
              "\n",
              "                         SR.MMP  SR.p53    Average  \n",
              "Random Forest            90.060  93.340  93.421667  \n",
              "K Nearest Neighbors      83.430  90.750  90.356667  \n",
              "Decision Tree            85.820  86.040  88.617500  \n",
              "Logistic Regression      88.950  93.340  92.891667  \n",
              "Support Vector Machines  88.770  71.100  77.538333  \n",
              "Average                  87.406  86.914  88.565167  "
            ],
            "text/html": [
              "\n",
              "  <div id=\"df-5c2330d9-48e5-47fb-9bd0-14756fff0413\">\n",
              "    <div class=\"colab-df-container\">\n",
              "      <div>\n",
              "<style scoped>\n",
              "    .dataframe tbody tr th:only-of-type {\n",
              "        vertical-align: middle;\n",
              "    }\n",
              "\n",
              "    .dataframe tbody tr th {\n",
              "        vertical-align: top;\n",
              "    }\n",
              "\n",
              "    .dataframe thead th {\n",
              "        text-align: right;\n",
              "    }\n",
              "</style>\n",
              "<table border=\"1\" class=\"dataframe\">\n",
              "  <thead>\n",
              "    <tr style=\"text-align: right;\">\n",
              "      <th></th>\n",
              "      <th>NR.AhR</th>\n",
              "      <th>NR.AR</th>\n",
              "      <th>NR.AR.LBD</th>\n",
              "      <th>NR.Aromatase</th>\n",
              "      <th>NR.ER</th>\n",
              "      <th>NR.ER.LBD</th>\n",
              "      <th>NR.PPAR.gamma</th>\n",
              "      <th>SR.ARE</th>\n",
              "      <th>SR.ATAD5</th>\n",
              "      <th>SR.HSE</th>\n",
              "      <th>SR.MMP</th>\n",
              "      <th>SR.p53</th>\n",
              "      <th>Average</th>\n",
              "    </tr>\n",
              "  </thead>\n",
              "  <tbody>\n",
              "    <tr>\n",
              "      <th>Random Forest</th>\n",
              "      <td>90.490</td>\n",
              "      <td>97.950</td>\n",
              "      <td>98.280</td>\n",
              "      <td>92.800</td>\n",
              "      <td>91.670</td>\n",
              "      <td>97.170</td>\n",
              "      <td>94.710</td>\n",
              "      <td>84.140</td>\n",
              "      <td>93.890</td>\n",
              "      <td>96.560</td>\n",
              "      <td>90.060</td>\n",
              "      <td>93.340</td>\n",
              "      <td>93.421667</td>\n",
              "    </tr>\n",
              "    <tr>\n",
              "      <th>K Nearest Neighbors</th>\n",
              "      <td>85.080</td>\n",
              "      <td>97.270</td>\n",
              "      <td>98.110</td>\n",
              "      <td>89.580</td>\n",
              "      <td>85.850</td>\n",
              "      <td>95.670</td>\n",
              "      <td>94.210</td>\n",
              "      <td>77.300</td>\n",
              "      <td>92.280</td>\n",
              "      <td>94.750</td>\n",
              "      <td>83.430</td>\n",
              "      <td>90.750</td>\n",
              "      <td>90.356667</td>\n",
              "    </tr>\n",
              "    <tr>\n",
              "      <th>Decision Tree</th>\n",
              "      <td>84.920</td>\n",
              "      <td>95.220</td>\n",
              "      <td>97.250</td>\n",
              "      <td>87.690</td>\n",
              "      <td>85.270</td>\n",
              "      <td>93.170</td>\n",
              "      <td>90.910</td>\n",
              "      <td>76.940</td>\n",
              "      <td>90.510</td>\n",
              "      <td>89.670</td>\n",
              "      <td>85.820</td>\n",
              "      <td>86.040</td>\n",
              "      <td>88.617500</td>\n",
              "    </tr>\n",
              "    <tr>\n",
              "      <th>Logistic Regression</th>\n",
              "      <td>88.030</td>\n",
              "      <td>97.950</td>\n",
              "      <td>98.630</td>\n",
              "      <td>92.610</td>\n",
              "      <td>90.120</td>\n",
              "      <td>96.670</td>\n",
              "      <td>94.880</td>\n",
              "      <td>83.240</td>\n",
              "      <td>93.890</td>\n",
              "      <td>96.390</td>\n",
              "      <td>88.950</td>\n",
              "      <td>93.340</td>\n",
              "      <td>92.891667</td>\n",
              "    </tr>\n",
              "    <tr>\n",
              "      <th>Support Vector Machines</th>\n",
              "      <td>57.210</td>\n",
              "      <td>96.080</td>\n",
              "      <td>95.190</td>\n",
              "      <td>92.610</td>\n",
              "      <td>62.020</td>\n",
              "      <td>95.330</td>\n",
              "      <td>91.900</td>\n",
              "      <td>83.060</td>\n",
              "      <td>93.090</td>\n",
              "      <td>4.100</td>\n",
              "      <td>88.770</td>\n",
              "      <td>71.100</td>\n",
              "      <td>77.538333</td>\n",
              "    </tr>\n",
              "    <tr>\n",
              "      <th>Average</th>\n",
              "      <td>81.146</td>\n",
              "      <td>96.894</td>\n",
              "      <td>97.492</td>\n",
              "      <td>91.058</td>\n",
              "      <td>82.986</td>\n",
              "      <td>95.602</td>\n",
              "      <td>93.322</td>\n",
              "      <td>80.936</td>\n",
              "      <td>92.732</td>\n",
              "      <td>76.294</td>\n",
              "      <td>87.406</td>\n",
              "      <td>86.914</td>\n",
              "      <td>88.565167</td>\n",
              "    </tr>\n",
              "  </tbody>\n",
              "</table>\n",
              "</div>\n",
              "      <button class=\"colab-df-convert\" onclick=\"convertToInteractive('df-5c2330d9-48e5-47fb-9bd0-14756fff0413')\"\n",
              "              title=\"Convert this dataframe to an interactive table.\"\n",
              "              style=\"display:none;\">\n",
              "        \n",
              "  <svg xmlns=\"http://www.w3.org/2000/svg\" height=\"24px\"viewBox=\"0 0 24 24\"\n",
              "       width=\"24px\">\n",
              "    <path d=\"M0 0h24v24H0V0z\" fill=\"none\"/>\n",
              "    <path d=\"M18.56 5.44l.94 2.06.94-2.06 2.06-.94-2.06-.94-.94-2.06-.94 2.06-2.06.94zm-11 1L8.5 8.5l.94-2.06 2.06-.94-2.06-.94L8.5 2.5l-.94 2.06-2.06.94zm10 10l.94 2.06.94-2.06 2.06-.94-2.06-.94-.94-2.06-.94 2.06-2.06.94z\"/><path d=\"M17.41 7.96l-1.37-1.37c-.4-.4-.92-.59-1.43-.59-.52 0-1.04.2-1.43.59L10.3 9.45l-7.72 7.72c-.78.78-.78 2.05 0 2.83L4 21.41c.39.39.9.59 1.41.59.51 0 1.02-.2 1.41-.59l7.78-7.78 2.81-2.81c.8-.78.8-2.07 0-2.86zM5.41 20L4 18.59l7.72-7.72 1.47 1.35L5.41 20z\"/>\n",
              "  </svg>\n",
              "      </button>\n",
              "      \n",
              "  <style>\n",
              "    .colab-df-container {\n",
              "      display:flex;\n",
              "      flex-wrap:wrap;\n",
              "      gap: 12px;\n",
              "    }\n",
              "\n",
              "    .colab-df-convert {\n",
              "      background-color: #E8F0FE;\n",
              "      border: none;\n",
              "      border-radius: 50%;\n",
              "      cursor: pointer;\n",
              "      display: none;\n",
              "      fill: #1967D2;\n",
              "      height: 32px;\n",
              "      padding: 0 0 0 0;\n",
              "      width: 32px;\n",
              "    }\n",
              "\n",
              "    .colab-df-convert:hover {\n",
              "      background-color: #E2EBFA;\n",
              "      box-shadow: 0px 1px 2px rgba(60, 64, 67, 0.3), 0px 1px 3px 1px rgba(60, 64, 67, 0.15);\n",
              "      fill: #174EA6;\n",
              "    }\n",
              "\n",
              "    [theme=dark] .colab-df-convert {\n",
              "      background-color: #3B4455;\n",
              "      fill: #D2E3FC;\n",
              "    }\n",
              "\n",
              "    [theme=dark] .colab-df-convert:hover {\n",
              "      background-color: #434B5C;\n",
              "      box-shadow: 0px 1px 3px 1px rgba(0, 0, 0, 0.15);\n",
              "      filter: drop-shadow(0px 1px 2px rgba(0, 0, 0, 0.3));\n",
              "      fill: #FFFFFF;\n",
              "    }\n",
              "  </style>\n",
              "\n",
              "      <script>\n",
              "        const buttonEl =\n",
              "          document.querySelector('#df-5c2330d9-48e5-47fb-9bd0-14756fff0413 button.colab-df-convert');\n",
              "        buttonEl.style.display =\n",
              "          google.colab.kernel.accessAllowed ? 'block' : 'none';\n",
              "\n",
              "        async function convertToInteractive(key) {\n",
              "          const element = document.querySelector('#df-5c2330d9-48e5-47fb-9bd0-14756fff0413');\n",
              "          const dataTable =\n",
              "            await google.colab.kernel.invokeFunction('convertToInteractive',\n",
              "                                                     [key], {});\n",
              "          if (!dataTable) return;\n",
              "\n",
              "          const docLinkHtml = 'Like what you see? Visit the ' +\n",
              "            '<a target=\"_blank\" href=https://colab.research.google.com/notebooks/data_table.ipynb>data table notebook</a>'\n",
              "            + ' to learn more about interactive tables.';\n",
              "          element.innerHTML = '';\n",
              "          dataTable['output_type'] = 'display_data';\n",
              "          await google.colab.output.renderOutput(dataTable, element);\n",
              "          const docLink = document.createElement('div');\n",
              "          docLink.innerHTML = docLinkHtml;\n",
              "          element.appendChild(docLink);\n",
              "        }\n",
              "      </script>\n",
              "    </div>\n",
              "  </div>\n",
              "  "
            ]
          },
          "metadata": {},
          "execution_count": 18
        }
      ]
    },
    {
      "cell_type": "code",
      "source": [
        "df.to_csv('/content/drive/MyDrive/Comp562Project/intitial_model_accuracies.csv')"
      ],
      "metadata": {
        "id": "VLgfVzanUIEy"
      },
      "execution_count": null,
      "outputs": []
    },
    {
      "cell_type": "markdown",
      "source": [
        "### Notes/Observations from this Section:\n",
        "* Random Forest and Logistic Regression models provided the best average accuracy. Random forest trained much faster than Logistic Regression. Logistic Regression requires many iterations to converge on this data set.\n",
        "* Move forward with Random Forest\n",
        "* The SR.ARE assay has low accuracy for all models\n",
        "\n"
      ],
      "metadata": {
        "id": "eqfqJWL1UgeP"
      }
    },
    {
      "cell_type": "markdown",
      "source": [
        "# (3) K-Fold Cross Validation with Random Forest"
      ],
      "metadata": {
        "id": "4ueJ1JdhU9ez"
      }
    },
    {
      "cell_type": "markdown",
      "source": [
        "Objective of this section: Get a more realistic idea of the accuracy of the Random Forest Model"
      ],
      "metadata": {
        "id": "symItiCoWueU"
      }
    },
    {
      "cell_type": "code",
      "source": [
        "from sklearn.ensemble import RandomForestClassifier\n",
        "from sklearn.model_selection import cross_val_score\n",
        "\n",
        "mean_scores = [] # Contains mean score from cross validation \n",
        "dev_scores = [] # Contains st dev of scores from cross validation\n",
        "\n",
        "# Build a model for each assay\n",
        "for target in y_tr.columns:\n",
        "    # Find sample rows that have values (not NaN)\n",
        "    rows_tr = np.isfinite(y_tr[target])\n",
        "    rows_te = np.isfinite(y_te[target])\n",
        "\n",
        "    # Combine Test and Training Data\n",
        "    x = np.vstack((x_tr_dense[rows_tr], x_te_dense[rows_te]))\n",
        "    y = np.concatenate((y_tr[target][rows_tr], y_te[target][rows_te]))\n",
        "\n",
        "    # Select Model and Use Cross Validation\n",
        "    rf = RandomForestClassifier(n_estimators=100)\n",
        "    scores = cross_val_score(rf, x, y, cv=10, scoring = \"accuracy\")\n",
        "\n",
        "    print(\"%15s Scores:\" % (target))\n",
        "    print(scores)\n",
        "\n",
        "    mean_scores.append(scores.mean())\n",
        "    dev_scores.append(scores.std())"
      ],
      "metadata": {
        "id": "trW_R9jAXCcN"
      },
      "execution_count": null,
      "outputs": []
    },
    {
      "cell_type": "code",
      "source": [
        "df = pd.DataFrame([mean_scores, dev_scores], columns = list(y_tr.columns), index = [\"Average Score\", \"Standard Deviation\"])\n",
        "df.to_csv('/content/drive/MyDrive/Comp562Project/k_fold_scores_1.csv')\n",
        "df"
      ],
      "metadata": {
        "id": "RuTiO_MDk3MO"
      },
      "execution_count": null,
      "outputs": []
    },
    {
      "cell_type": "markdown",
      "source": [
        "# (4) Feature Deletion"
      ],
      "metadata": {
        "id": "EtZYNmE2qGuH"
      }
    },
    {
      "cell_type": "code",
      "source": [
        "# Random Forest for Dense Sample Features\n",
        "from sklearn.ensemble import RandomForestClassifier\n",
        "\n",
        "feature_importance = np.zeros(801) # Collects the importance of each feature (0-801) across all assays\n",
        "\n",
        "# Build a model for each assay\n",
        "for target in y_tr.columns:\n",
        "\n",
        "  # Find sample rows that have values (not NaN)\n",
        "  rows_tr = np.isfinite(y_tr[target])\n",
        "  rows_te = np.isfinite(y_te[target])\n",
        "\n",
        "  # Select Model and Fit to data\n",
        "  rf = RandomForestClassifier(n_estimators=100,  n_jobs=4)\n",
        "  rf.fit(x_tr_dense[rows_tr], y_tr[target][rows_tr]) # Slices features/labels to only rows that have values\n",
        "\n",
        "  feature_importance = np.add(feature_importance, rf.feature_importances_)"
      ],
      "metadata": {
        "id": "kaGvcseAaQpF"
      },
      "execution_count": 44,
      "outputs": []
    },
    {
      "cell_type": "code",
      "source": [
        "importances = pd.DataFrame({'feature':np.arange(0,801),'importance':np.round(feature_importance,3)})\n",
        "importances = importances.sort_values('importance',ascending=False)\n",
        "print(importances.head(15)) ## Shows 15 most important features\n",
        "# Next Step: train a model with 400 most important features, then 500, 600, 700 most important etc"
      ],
      "metadata": {
        "colab": {
          "base_uri": "https://localhost:8080/"
        },
        "id": "AsDfYzfIerSQ",
        "outputId": "a3202ac4-b0e6-4a93-c6b1-c0224c6f43df"
      },
      "execution_count": 45,
      "outputs": [
        {
          "output_type": "stream",
          "name": "stdout",
          "text": [
            "     feature  importance\n",
            "221      221       0.056\n",
            "122      122       0.049\n",
            "37        37       0.048\n",
            "206      206       0.044\n",
            "96        96       0.044\n",
            "238      238       0.044\n",
            "33        33       0.042\n",
            "24        24       0.041\n",
            "288      288       0.038\n",
            "191      191       0.037\n",
            "39        39       0.036\n",
            "261      261       0.035\n",
            "83        83       0.034\n",
            "205      205       0.034\n",
            "38        38       0.033\n"
          ]
        }
      ]
    },
    {
      "cell_type": "code",
      "source": [
        "# List of feature number in order of importance (more important to less important)\n",
        "most_important_features = importances['feature'].tolist()\n",
        "# Next Step: train a model with 400 most important features, then 500, 600, 700 most important etc"
      ],
      "metadata": {
        "id": "Wojbj_W_qvaS"
      },
      "execution_count": 46,
      "outputs": []
    },
    {
      "cell_type": "code",
      "source": [
        "importances1 = pd.DataFrame({'feature':np.arange(0,801),'importance':np.round(feature_importance,3)})\n",
        "ax = importances1.plot.bar(x='feature', y='importance')\n",
        "# x-axis should be feature number, y-axis is relative importance\n",
        "# Try to figure out how to make the x-axis look nicer (like a)"
      ],
      "metadata": {
        "colab": {
          "base_uri": "https://localhost:8080/",
          "height": 288
        },
        "id": "zmMTclp0cHJa",
        "outputId": "7ded6418-b127-40bf-89c8-2dbf5c33e24f"
      },
      "execution_count": 47,
      "outputs": [
        {
          "output_type": "display_data",
          "data": {
            "text/plain": [
              "<Figure size 432x288 with 1 Axes>"
            ],
            "image/png": "[encoded data removed]"
          },
          "metadata": {
            "needs_background": "light"
          }
        }
      ]
    },
    {
      "cell_type": "code",
      "source": [
        "# Random Forest for Dense Sample Features\n",
        "from sklearn.ensemble import RandomForestClassifier\n",
        "\n",
        "acc_rf_features = [] # Stores % Accuracy for each assay\n",
        "feature_num = []\n",
        "\n",
        "# Build a model for each assay\n",
        "for num_features in range(500, 801, 50):\n",
        "  acc_rf = []\n",
        "  feature_num.append(num_features)\n",
        "  print(num_features)\n",
        "  for target in y_tr.columns:\n",
        "      # Find sample rows that have values (not NaN)\n",
        "      rows_tr = np.isfinite(y_tr[target])\n",
        "      rows_te = np.isfinite(y_te[target])\n",
        "\n",
        "      # Select Model and Fit to data\n",
        "      rf = RandomForestClassifier(n_estimators=100,  n_jobs=4)\n",
        "      rf.fit(x_tr_dense[rows_tr][:,most_important_features[:num_features]], y_tr[target][rows_tr]) # Slices features/labels to only rows that have values\n",
        "\n",
        "      # Calculate Accuracy\n",
        "      acc_rf.append(round(rf.score(x_te_dense[rows_te][:,most_important_features[:num_features]], y_te[target][rows_te]) * 100, 2))\n",
        "\n",
        "      # Print assay name, acc, and auc\n",
        "      print(\"%15s: %3.5f\" % (target, acc_rf[-1))\n",
        "\n",
        "  acc_rf_features.append(sum(acc_rf)/len(acc_rf))"
      ],
      "metadata": {
        "colab": {
          "base_uri": "https://localhost:8080/"
        },
        "id": "2v7_Q-QF6I6K",
        "outputId": "151f5f58-dcbd-40fa-f394-433f50fb2b92"
      },
      "execution_count": 73,
      "outputs": [
        {
          "output_type": "stream",
          "name": "stdout",
          "text": [
            "500\n",
            "         NR.AhR: 90.66000, 0.89772\n",
            "          NR.AR: 97.95000, 0.89772\n",
            "      NR.AR.LBD: 98.28000, 0.89772\n",
            "   NR.Aromatase: 92.80000, 0.89772\n",
            "          NR.ER: 91.47000, 0.89772\n",
            "      NR.ER.LBD: 97.17000, 0.89772\n",
            "  NR.PPAR.gamma: 94.88000, 0.89772\n",
            "         SR.ARE: 84.32000, 0.89772\n",
            "       SR.ATAD5: 94.05000, 0.89772\n",
            "         SR.HSE: 96.72000, 0.89772\n",
            "         SR.MMP: 90.06000, 0.89772\n",
            "         SR.p53: 93.34000, 0.89772\n",
            "550\n",
            "         NR.AhR: 90.49000, 0.89772\n",
            "          NR.AR: 97.95000, 0.89772\n",
            "      NR.AR.LBD: 98.28000, 0.89772\n",
            "   NR.Aromatase: 92.80000, 0.89772\n",
            "          NR.ER: 91.28000, 0.89772\n",
            "      NR.ER.LBD: 97.17000, 0.89772\n",
            "  NR.PPAR.gamma: 94.88000, 0.89772\n",
            "         SR.ARE: 83.78000, 0.89772\n",
            "       SR.ATAD5: 94.37000, 0.89772\n",
            "         SR.HSE: 96.39000, 0.89772\n",
            "         SR.MMP: 90.61000, 0.89772\n",
            "         SR.p53: 93.51000, 0.89772\n",
            "600\n",
            "         NR.AhR: 90.49000, 0.89772\n",
            "          NR.AR: 97.95000, 0.89772\n",
            "      NR.AR.LBD: 98.28000, 0.89772\n",
            "   NR.Aromatase: 92.61000, 0.89772\n",
            "          NR.ER: 91.86000, 0.89772\n",
            "      NR.ER.LBD: 97.00000, 0.89772\n",
            "  NR.PPAR.gamma: 94.71000, 0.89772\n",
            "         SR.ARE: 84.32000, 0.89772\n",
            "       SR.ATAD5: 94.05000, 0.89772\n",
            "         SR.HSE: 96.72000, 0.89772\n",
            "         SR.MMP: 89.87000, 0.89772\n",
            "         SR.p53: 93.34000, 0.89772\n",
            "650\n",
            "         NR.AhR: 90.00000, 0.89772\n",
            "          NR.AR: 97.95000, 0.89772\n",
            "      NR.AR.LBD: 98.28000, 0.89772\n",
            "   NR.Aromatase: 92.61000, 0.89772\n",
            "          NR.ER: 92.05000, 0.89772\n",
            "      NR.ER.LBD: 97.17000, 0.89772\n",
            "  NR.PPAR.gamma: 94.88000, 0.89772\n",
            "         SR.ARE: 84.32000, 0.89772\n",
            "       SR.ATAD5: 94.21000, 0.89772\n",
            "         SR.HSE: 96.39000, 0.89772\n",
            "         SR.MMP: 89.50000, 0.89772\n",
            "         SR.p53: 93.51000, 0.89772\n",
            "700\n",
            "         NR.AhR: 90.49000, 0.89772\n",
            "          NR.AR: 97.95000, 0.89772\n",
            "      NR.AR.LBD: 98.28000, 0.89772\n",
            "   NR.Aromatase: 92.80000, 0.89772\n",
            "          NR.ER: 91.47000, 0.89772\n",
            "      NR.ER.LBD: 97.17000, 0.89772\n",
            "  NR.PPAR.gamma: 94.71000, 0.89772\n",
            "         SR.ARE: 83.78000, 0.89772\n",
            "       SR.ATAD5: 94.05000, 0.89772\n",
            "         SR.HSE: 96.89000, 0.89772\n",
            "         SR.MMP: 90.79000, 0.89772\n",
            "         SR.p53: 93.34000, 0.89772\n",
            "750\n",
            "         NR.AhR: 90.82000, 0.89772\n",
            "          NR.AR: 97.95000, 0.89772\n",
            "      NR.AR.LBD: 98.28000, 0.89772\n",
            "   NR.Aromatase: 92.42000, 0.89772\n",
            "          NR.ER: 91.86000, 0.89772\n",
            "      NR.ER.LBD: 97.17000, 0.89772\n",
            "  NR.PPAR.gamma: 94.71000, 0.89772\n",
            "         SR.ARE: 84.50000, 0.89772\n",
            "       SR.ATAD5: 94.21000, 0.89772\n",
            "         SR.HSE: 96.39000, 0.89772\n",
            "         SR.MMP: 90.24000, 0.89772\n",
            "         SR.p53: 93.34000, 0.89772\n",
            "800\n",
            "         NR.AhR: 90.49000, 0.89772\n",
            "          NR.AR: 97.95000, 0.89772\n",
            "      NR.AR.LBD: 98.11000, 0.89772\n",
            "   NR.Aromatase: 92.80000, 0.89772\n",
            "          NR.ER: 92.05000, 0.89772\n",
            "      NR.ER.LBD: 97.17000, 0.89772\n",
            "  NR.PPAR.gamma: 94.71000, 0.89772\n",
            "         SR.ARE: 84.68000, 0.89772\n",
            "       SR.ATAD5: 94.21000, 0.89772\n",
            "         SR.HSE: 96.72000, 0.89772\n",
            "         SR.MMP: 90.98000, 0.89772\n",
            "         SR.p53: 93.34000, 0.89772\n"
          ]
        }
      ]
    },
    {
      "cell_type": "code",
      "source": [
        "df = pd.DataFrame([np.round(acc_rf_features,4)], columns = feature_num, index = [\"Accuracy\"])\n",
        "df"
      ],
      "metadata": {
        "colab": {
          "base_uri": "https://localhost:8080/",
          "height": 81
        },
        "id": "2Q4RInQ8BMYa",
        "outputId": "16ec544d-b43e-4b29-bad1-7183c3e95d82"
      },
      "execution_count": 89,
      "outputs": [
        {
          "output_type": "execute_result",
          "data": {
            "text/plain": [
              "             500      550      600      650      700      750      800\n",
              "Accuracy  93.475  93.4592  93.4333  93.4058  93.4767  93.4908  93.6008"
            ],
            "text/html": [
              "\n",
              "  <div id=\"df-0094ccf2-b4cf-4638-888c-953d172c8b0a\">\n",
              "    <div class=\"colab-df-container\">\n",
              "      <div>\n",
              "<style scoped>\n",
              "    .dataframe tbody tr th:only-of-type {\n",
              "        vertical-align: middle;\n",
              "    }\n",
              "\n",
              "    .dataframe tbody tr th {\n",
              "        vertical-align: top;\n",
              "    }\n",
              "\n",
              "    .dataframe thead th {\n",
              "        text-align: right;\n",
              "    }\n",
              "</style>\n",
              "<table border=\"1\" class=\"dataframe\">\n",
              "  <thead>\n",
              "    <tr style=\"text-align: right;\">\n",
              "      <th></th>\n",
              "      <th>500</th>\n",
              "      <th>550</th>\n",
              "      <th>600</th>\n",
              "      <th>650</th>\n",
              "      <th>700</th>\n",
              "      <th>750</th>\n",
              "      <th>800</th>\n",
              "    </tr>\n",
              "  </thead>\n",
              "  <tbody>\n",
              "    <tr>\n",
              "      <th>Accuracy</th>\n",
              "      <td>93.475</td>\n",
              "      <td>93.4592</td>\n",
              "      <td>93.4333</td>\n",
              "      <td>93.4058</td>\n",
              "      <td>93.4767</td>\n",
              "      <td>93.4908</td>\n",
              "      <td>93.6008</td>\n",
              "    </tr>\n",
              "  </tbody>\n",
              "</table>\n",
              "</div>\n",
              "      <button class=\"colab-df-convert\" onclick=\"convertToInteractive('df-0094ccf2-b4cf-4638-888c-953d172c8b0a')\"\n",
              "              title=\"Convert this dataframe to an interactive table.\"\n",
              "              style=\"display:none;\">\n",
              "        \n",
              "  <svg xmlns=\"http://www.w3.org/2000/svg\" height=\"24px\"viewBox=\"0 0 24 24\"\n",
              "       width=\"24px\">\n",
              "    <path d=\"M0 0h24v24H0V0z\" fill=\"none\"/>\n",
              "    <path d=\"M18.56 5.44l.94 2.06.94-2.06 2.06-.94-2.06-.94-.94-2.06-.94 2.06-2.06.94zm-11 1L8.5 8.5l.94-2.06 2.06-.94-2.06-.94L8.5 2.5l-.94 2.06-2.06.94zm10 10l.94 2.06.94-2.06 2.06-.94-2.06-.94-.94-2.06-.94 2.06-2.06.94z\"/><path d=\"M17.41 7.96l-1.37-1.37c-.4-.4-.92-.59-1.43-.59-.52 0-1.04.2-1.43.59L10.3 9.45l-7.72 7.72c-.78.78-.78 2.05 0 2.83L4 21.41c.39.39.9.59 1.41.59.51 0 1.02-.2 1.41-.59l7.78-7.78 2.81-2.81c.8-.78.8-2.07 0-2.86zM5.41 20L4 18.59l7.72-7.72 1.47 1.35L5.41 20z\"/>\n",
              "  </svg>\n",
              "      </button>\n",
              "      \n",
              "  <style>\n",
              "    .colab-df-container {\n",
              "      display:flex;\n",
              "      flex-wrap:wrap;\n",
              "      gap: 12px;\n",
              "    }\n",
              "\n",
              "    .colab-df-convert {\n",
              "      background-color: #E8F0FE;\n",
              "      border: none;\n",
              "      border-radius: 50%;\n",
              "      cursor: pointer;\n",
              "      display: none;\n",
              "      fill: #1967D2;\n",
              "      height: 32px;\n",
              "      padding: 0 0 0 0;\n",
              "      width: 32px;\n",
              "    }\n",
              "\n",
              "    .colab-df-convert:hover {\n",
              "      background-color: #E2EBFA;\n",
              "      box-shadow: 0px 1px 2px rgba(60, 64, 67, 0.3), 0px 1px 3px 1px rgba(60, 64, 67, 0.15);\n",
              "      fill: #174EA6;\n",
              "    }\n",
              "\n",
              "    [theme=dark] .colab-df-convert {\n",
              "      background-color: #3B4455;\n",
              "      fill: #D2E3FC;\n",
              "    }\n",
              "\n",
              "    [theme=dark] .colab-df-convert:hover {\n",
              "      background-color: #434B5C;\n",
              "      box-shadow: 0px 1px 3px 1px rgba(0, 0, 0, 0.15);\n",
              "      filter: drop-shadow(0px 1px 2px rgba(0, 0, 0, 0.3));\n",
              "      fill: #FFFFFF;\n",
              "    }\n",
              "  </style>\n",
              "\n",
              "      <script>\n",
              "        const buttonEl =\n",
              "          document.querySelector('#df-0094ccf2-b4cf-4638-888c-953d172c8b0a button.colab-df-convert');\n",
              "        buttonEl.style.display =\n",
              "          google.colab.kernel.accessAllowed ? 'block' : 'none';\n",
              "\n",
              "        async function convertToInteractive(key) {\n",
              "          const element = document.querySelector('#df-0094ccf2-b4cf-4638-888c-953d172c8b0a');\n",
              "          const dataTable =\n",
              "            await google.colab.kernel.invokeFunction('convertToInteractive',\n",
              "                                                     [key], {});\n",
              "          if (!dataTable) return;\n",
              "\n",
              "          const docLinkHtml = 'Like what you see? Visit the ' +\n",
              "            '<a target=\"_blank\" href=https://colab.research.google.com/notebooks/data_table.ipynb>data table notebook</a>'\n",
              "            + ' to learn more about interactive tables.';\n",
              "          element.innerHTML = '';\n",
              "          dataTable['output_type'] = 'display_data';\n",
              "          await google.colab.output.renderOutput(dataTable, element);\n",
              "          const docLink = document.createElement('div');\n",
              "          docLink.innerHTML = docLinkHtml;\n",
              "          element.appendChild(docLink);\n",
              "        }\n",
              "      </script>\n",
              "    </div>\n",
              "  </div>\n",
              "  "
            ]
          },
          "metadata": {},
          "execution_count": 89
        }
      ]
    },
    {
      "cell_type": "code",
      "source": [
        "feature_num"
      ],
      "metadata": {
        "colab": {
          "base_uri": "https://localhost:8080/"
        },
        "id": "MdehAM7ZCPfg",
        "outputId": "1f37d440-16c7-4123-cef6-5db7aeb1d1b4"
      },
      "execution_count": 87,
      "outputs": [
        {
          "output_type": "execute_result",
          "data": {
            "text/plain": [
              "[500, 550, 600, 650, 700, 750, 800]"
            ]
          },
          "metadata": {},
          "execution_count": 87
        }
      ]
    },
    {
      "cell_type": "markdown",
      "source": [
        "# (4b) Hyperparameter Tuning"
      ],
      "metadata": {
        "id": "46VzbXb4VU7E"
      }
    },
    {
      "cell_type": "code",
      "source": [
        "from sklearn.ensemble import RandomForestClassifier\n",
        "from sklearn.model_selection import GridSearchCV\n",
        "\n",
        "# Select which assay you are testing\n",
        "target = y_tr.columns[0]\n",
        "  \n",
        "rows_tr = np.isfinite(y_tr[target])\n",
        "rows_te = np.isfinite(y_te[target])\n",
        "\n",
        "rf = RandomForestClassifier(n_estimators=100,  n_jobs=4)\n",
        "\n",
        "param_grid = { \"min_samples_leaf\" : [10, 25], \n",
        "              \"min_samples_split\" : [12, 16], \n",
        "              \"n_estimators\": [400, 700]}\n",
        "\n",
        "grid = GridSearchCV(estimator=rf, param_grid=param_grid, scoring='roc_auc', cv=5)\n",
        "\n",
        "grid.fit(x_tr_dense[rows_tr], y_tr[target][rows_tr])\n",
        "\n",
        "print(\"The best parameters are %s with a score of %0.2f\"\n",
        "      % (grid.best_params_, grid.best_score_))"
      ],
      "metadata": {
        "id": "VBgUDAeWVZPg",
        "colab": {
          "base_uri": "https://localhost:8080/"
        },
        "outputId": "cda5767d-76ab-4024-beeb-7f77cfdfe73d"
      },
      "execution_count": null,
      "outputs": [
        {
          "output_type": "stream",
          "name": "stdout",
          "text": [
            "The best parameters are {'min_samples_leaf': 10, 'min_samples_split': 16, 'n_estimators': 400} with a score of 0.89\n"
          ]
        }
      ]
    },
    {
      "cell_type": "markdown",
      "source": [
        "# (5) ROC AUC Curve"
      ],
      "metadata": {
        "id": "EEzCLFg7VZt5"
      }
    },
    {
      "cell_type": "code",
      "source": [
        "# Code to make a ROC AUC Curve. Rerun later once model is tuned\n",
        "# Random Forest for Dense Sample Features\n",
        "from sklearn.ensemble import RandomForestClassifier\n",
        "auc_rf = [] # Store ROC Area Under Curve for each Assay\n",
        "\n",
        "# Build a model for each assay\n",
        "for target in y_tr.columns:\n",
        "    # Find sample rows that have values (not NaN)\n",
        "    rows_tr = np.isfinite(y_tr[target])\n",
        "    rows_te = np.isfinite(y_te[target])\n",
        "\n",
        "    # Select Model and Fit to data\n",
        "    rf = RandomForestClassifier(n_estimators=100,  n_jobs=4)\n",
        "    rf.fit(x_tr_dense[rows_tr], y_tr[target][rows_tr]) # Slices features/labels to only rows that have values\n",
        "\n",
        "    # Calculate ROC AUC\n",
        "    p_te = rf.predict_proba(x_te_dense[rows_te])\n",
        "    auc_rf.append(roc_auc_score(y_te[target][rows_te], p_te[:,1]))\n",
        "\n",
        "    # Print assay name, acc, and auc\n",
        "    print(\"%15s: %3.5f\" % (target, auc_rf[-1]))"
      ],
      "metadata": {
        "colab": {
          "base_uri": "https://localhost:8080/"
        },
        "id": "v6mjBtKkVi4L",
        "outputId": "f7b469b6-bd35-40bf-9f5c-4d82b2103261"
      },
      "execution_count": 90,
      "outputs": [
        {
          "output_type": "stream",
          "name": "stdout",
          "text": [
            "         NR.AhR: 0.90790\n",
            "          NR.AR: 0.72641\n",
            "      NR.AR.LBD: 0.73617\n",
            "   NR.Aromatase: 0.75940\n",
            "          NR.ER: 0.76532\n",
            "      NR.ER.LBD: 0.74022\n",
            "  NR.PPAR.gamma: 0.69242\n",
            "         SR.ARE: 0.76691\n",
            "       SR.ATAD5: 0.76138\n",
            "         SR.HSE: 0.73373\n",
            "         SR.MMP: 0.91567\n",
            "         SR.p53: 0.77815\n"
          ]
        }
      ]
    },
    {
      "cell_type": "code",
      "source": [
        "df = pd.DataFrame([auc_rf], columns = list(y_tr.columns), index = [\"ROC AUC Score\"])\n",
        "df"
      ],
      "metadata": {
        "colab": {
          "base_uri": "https://localhost:8080/",
          "height": 81
        },
        "id": "8WrxePGlEDMk",
        "outputId": "641b449f-0da7-439d-dc2b-e0f2a1e09148"
      },
      "execution_count": 94,
      "outputs": [
        {
          "output_type": "execute_result",
          "data": {
            "text/plain": [
              "                 NR.AhR     NR.AR  NR.AR.LBD  NR.Aromatase     NR.ER  \\\n",
              "ROC AUC Score  0.907898  0.726408   0.736172      0.759399  0.765317   \n",
              "\n",
              "               NR.ER.LBD  NR.PPAR.gamma    SR.ARE  SR.ATAD5    SR.HSE  \\\n",
              "ROC AUC Score   0.740216       0.692424  0.766909  0.761378  0.733728   \n",
              "\n",
              "                 SR.MMP    SR.p53  \n",
              "ROC AUC Score  0.915666  0.778155  "
            ],
            "text/html": [
              "\n",
              "  <div id=\"df-0d6fd70d-ca0b-4505-9446-f43d64c1fc39\">\n",
              "    <div class=\"colab-df-container\">\n",
              "      <div>\n",
              "<style scoped>\n",
              "    .dataframe tbody tr th:only-of-type {\n",
              "        vertical-align: middle;\n",
              "    }\n",
              "\n",
              "    .dataframe tbody tr th {\n",
              "        vertical-align: top;\n",
              "    }\n",
              "\n",
              "    .dataframe thead th {\n",
              "        text-align: right;\n",
              "    }\n",
              "</style>\n",
              "<table border=\"1\" class=\"dataframe\">\n",
              "  <thead>\n",
              "    <tr style=\"text-align: right;\">\n",
              "      <th></th>\n",
              "      <th>NR.AhR</th>\n",
              "      <th>NR.AR</th>\n",
              "      <th>NR.AR.LBD</th>\n",
              "      <th>NR.Aromatase</th>\n",
              "      <th>NR.ER</th>\n",
              "      <th>NR.ER.LBD</th>\n",
              "      <th>NR.PPAR.gamma</th>\n",
              "      <th>SR.ARE</th>\n",
              "      <th>SR.ATAD5</th>\n",
              "      <th>SR.HSE</th>\n",
              "      <th>SR.MMP</th>\n",
              "      <th>SR.p53</th>\n",
              "    </tr>\n",
              "  </thead>\n",
              "  <tbody>\n",
              "    <tr>\n",
              "      <th>ROC AUC Score</th>\n",
              "      <td>0.907898</td>\n",
              "      <td>0.726408</td>\n",
              "      <td>0.736172</td>\n",
              "      <td>0.759399</td>\n",
              "      <td>0.765317</td>\n",
              "      <td>0.740216</td>\n",
              "      <td>0.692424</td>\n",
              "      <td>0.766909</td>\n",
              "      <td>0.761378</td>\n",
              "      <td>0.733728</td>\n",
              "      <td>0.915666</td>\n",
              "      <td>0.778155</td>\n",
              "    </tr>\n",
              "  </tbody>\n",
              "</table>\n",
              "</div>\n",
              "      <button class=\"colab-df-convert\" onclick=\"convertToInteractive('df-0d6fd70d-ca0b-4505-9446-f43d64c1fc39')\"\n",
              "              title=\"Convert this dataframe to an interactive table.\"\n",
              "              style=\"display:none;\">\n",
              "        \n",
              "  <svg xmlns=\"http://www.w3.org/2000/svg\" height=\"24px\"viewBox=\"0 0 24 24\"\n",
              "       width=\"24px\">\n",
              "    <path d=\"M0 0h24v24H0V0z\" fill=\"none\"/>\n",
              "    <path d=\"M18.56 5.44l.94 2.06.94-2.06 2.06-.94-2.06-.94-.94-2.06-.94 2.06-2.06.94zm-11 1L8.5 8.5l.94-2.06 2.06-.94-2.06-.94L8.5 2.5l-.94 2.06-2.06.94zm10 10l.94 2.06.94-2.06 2.06-.94-2.06-.94-.94-2.06-.94 2.06-2.06.94z\"/><path d=\"M17.41 7.96l-1.37-1.37c-.4-.4-.92-.59-1.43-.59-.52 0-1.04.2-1.43.59L10.3 9.45l-7.72 7.72c-.78.78-.78 2.05 0 2.83L4 21.41c.39.39.9.59 1.41.59.51 0 1.02-.2 1.41-.59l7.78-7.78 2.81-2.81c.8-.78.8-2.07 0-2.86zM5.41 20L4 18.59l7.72-7.72 1.47 1.35L5.41 20z\"/>\n",
              "  </svg>\n",
              "      </button>\n",
              "      \n",
              "  <style>\n",
              "    .colab-df-container {\n",
              "      display:flex;\n",
              "      flex-wrap:wrap;\n",
              "      gap: 12px;\n",
              "    }\n",
              "\n",
              "    .colab-df-convert {\n",
              "      background-color: #E8F0FE;\n",
              "      border: none;\n",
              "      border-radius: 50%;\n",
              "      cursor: pointer;\n",
              "      display: none;\n",
              "      fill: #1967D2;\n",
              "      height: 32px;\n",
              "      padding: 0 0 0 0;\n",
              "      width: 32px;\n",
              "    }\n",
              "\n",
              "    .colab-df-convert:hover {\n",
              "      background-color: #E2EBFA;\n",
              "      box-shadow: 0px 1px 2px rgba(60, 64, 67, 0.3), 0px 1px 3px 1px rgba(60, 64, 67, 0.15);\n",
              "      fill: #174EA6;\n",
              "    }\n",
              "\n",
              "    [theme=dark] .colab-df-convert {\n",
              "      background-color: #3B4455;\n",
              "      fill: #D2E3FC;\n",
              "    }\n",
              "\n",
              "    [theme=dark] .colab-df-convert:hover {\n",
              "      background-color: #434B5C;\n",
              "      box-shadow: 0px 1px 3px 1px rgba(0, 0, 0, 0.15);\n",
              "      filter: drop-shadow(0px 1px 2px rgba(0, 0, 0, 0.3));\n",
              "      fill: #FFFFFF;\n",
              "    }\n",
              "  </style>\n",
              "\n",
              "      <script>\n",
              "        const buttonEl =\n",
              "          document.querySelector('#df-0d6fd70d-ca0b-4505-9446-f43d64c1fc39 button.colab-df-convert');\n",
              "        buttonEl.style.display =\n",
              "          google.colab.kernel.accessAllowed ? 'block' : 'none';\n",
              "\n",
              "        async function convertToInteractive(key) {\n",
              "          const element = document.querySelector('#df-0d6fd70d-ca0b-4505-9446-f43d64c1fc39');\n",
              "          const dataTable =\n",
              "            await google.colab.kernel.invokeFunction('convertToInteractive',\n",
              "                                                     [key], {});\n",
              "          if (!dataTable) return;\n",
              "\n",
              "          const docLinkHtml = 'Like what you see? Visit the ' +\n",
              "            '<a target=\"_blank\" href=https://colab.research.google.com/notebooks/data_table.ipynb>data table notebook</a>'\n",
              "            + ' to learn more about interactive tables.';\n",
              "          element.innerHTML = '';\n",
              "          dataTable['output_type'] = 'display_data';\n",
              "          await google.colab.output.renderOutput(dataTable, element);\n",
              "          const docLink = document.createElement('div');\n",
              "          docLink.innerHTML = docLinkHtml;\n",
              "          element.appendChild(docLink);\n",
              "        }\n",
              "      </script>\n",
              "    </div>\n",
              "  </div>\n",
              "  "
            ]
          },
          "metadata": {},
          "execution_count": 94
        }
      ]
    }
  ],
  "metadata": {
    "colab": {
      "collapsed_sections": [],
      "name": "Tox Project.ipynb",
      "provenance": []
    },
    "kernelspec": {
      "display_name": "Python 3",
      "name": "python3"
    },
    "language_info": {
      "name": "python"
    }
  },
  "nbformat": 4,
  "nbformat_minor": 0
}